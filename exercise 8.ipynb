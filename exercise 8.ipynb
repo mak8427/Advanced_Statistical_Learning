{
 "nbformat": 4,
 "nbformat_minor": 0,
 "metadata": {
  "colab": {
   "provenance": []
  },
  "kernelspec": {
   "name": "python3",
   "display_name": "Python 3 (ipykernel)",
   "language": "python"
  },
  "language_info": {
   "name": "python"
  }
 },
 "cells": [
  {
   "cell_type": "code",
   "metadata": {
    "id": "mx7nifAzE8ko",
    "ExecuteTime": {
     "end_time": "2024-12-20T10:39:11.011122Z",
     "start_time": "2024-12-20T10:38:50.077256Z"
    }
   },
   "source": [
    "# License: BSD\n",
    "# Author: Sasank Chilamkurthy\n",
    "\n",
    "from __future__ import print_function, division\n",
    "\n",
    "import torch\n",
    "import torch.nn as nn\n",
    "import torch.optim as optim\n",
    "from torch.optim import lr_scheduler\n",
    "import numpy as np\n",
    "import torchvision\n",
    "from torchvision import datasets, models, transforms\n",
    "import matplotlib.pyplot as plt\n",
    "import time\n",
    "import os\n",
    "import copy\n",
    "\n",
    "plt.ion()   # interactive mode"
   ],
   "outputs": [
    {
     "data": {
      "text/plain": [
       "<contextlib.ExitStack at 0x2b60b9e94d0>"
      ]
     },
     "execution_count": 1,
     "metadata": {},
     "output_type": "execute_result"
    }
   ],
   "execution_count": 1
  },
  {
   "cell_type": "code",
   "metadata": {
    "id": "-W70RfhgFZN7",
    "ExecuteTime": {
     "end_time": "2024-12-20T10:39:14.842631Z",
     "start_time": "2024-12-20T10:39:14.717370Z"
    }
   },
   "source": [
    "!wget https://download.pytorch.org/tutorial/hymenoptera_data.zip\n",
    "!unzip hymenoptera_data.zip"
   ],
   "outputs": [
    {
     "name": "stderr",
     "output_type": "stream",
     "text": [
      "'wget' is not recognized as an internal or external command,\n",
      "operable program or batch file.\n",
      "'unzip' is not recognized as an internal or external command,\n",
      "operable program or batch file.\n"
     ]
    }
   ],
   "execution_count": 2
  },
  {
   "cell_type": "code",
   "metadata": {
    "id": "AzCRdCBQFbDx"
   },
   "source": [
    "# Data augmentation and normalization for training\n",
    "# Just normalization for validation\n",
    "data_transforms = {\n",
    "    'train': transforms.Compose([\n",
    "        transforms.RandomResizedCrop(224),\n",
    "        transforms.RandomHorizontalFlip(),\n",
    "        transforms.ToTensor(),\n",
    "        transforms.Normalize([0.485, 0.456, 0.406], [0.229, 0.224, 0.225])\n",
    "    ]),\n",
    "    'val': transforms.Compose([\n",
    "        transforms.Resize(256),\n",
    "        transforms.CenterCrop(224),\n",
    "        transforms.ToTensor(),\n",
    "        transforms.Normalize([0.485, 0.456, 0.406], [0.229, 0.224, 0.225])\n",
    "    ]),\n",
    "}\n",
    "\n",
    "data_dir = './hymenoptera_data'\n",
    "image_datasets = {x: datasets.ImageFolder(os.path.join(data_dir, x),\n",
    "                                          data_transforms[x])\n",
    "                  for x in ['train', 'val']}\n",
    "dataloaders = {x: torch.utils.data.DataLoader(image_datasets[x], batch_size=60,\n",
    "                                             shuffle=True, num_workers=4)\n",
    "              for x in ['train', 'val']}\n",
    "dataset_sizes = {x: len(image_datasets[x]) for x in ['train', 'val']}\n",
    "class_names = image_datasets['train'].classes\n",
    "\n",
    "device = torch.device(\"cuda:0\" if torch.cuda.is_available() else \"cpu\")"
   ],
   "execution_count": null,
   "outputs": []
  },
  {
   "cell_type": "code",
   "metadata": {
    "id": "8WY70eaSFcdq"
   },
   "source": [
    "def imshow(inp, title=None):\n",
    "    \"\"\"Imshow for Tensor.\"\"\"\n",
    "    inp = inp.numpy().transpose((1, 2, 0))\n",
    "    mean = np.array([0.485, 0.456, 0.406])\n",
    "    std = np.array([0.229, 0.224, 0.225])\n",
    "    inp = std * inp + mean\n",
    "    inp = np.clip(inp, 0, 1)\n",
    "    plt.imshow(inp)\n",
    "    if title is not None:\n",
    "        plt.title(title)\n",
    "    plt.pause(0.001)  # pause a bit so that plots are updated\n",
    "\n",
    "\n",
    "# Get a batch of training data\n",
    "inputs, classes = next(iter(dataloaders['train']))\n",
    "\n",
    "# Make a grid from batch\n",
    "out = torchvision.utils.make_grid(inputs)\n",
    "\n",
    "imshow(out, title=[class_names[x] for x in classes])"
   ],
   "execution_count": null,
   "outputs": []
  },
  {
   "cell_type": "markdown",
   "metadata": {
    "id": "Qc6hl9L3FFfy"
   },
   "source": [
    "Reference\n",
    "---------------------\n",
    "[Transfer Learning for Computer Vision Tutorial],\n",
    "**Author**: `Sasank Chilamkurthy <https://chsasank.github.io>`,\n",
    "`cs231n notes <https://cs231n.github.io/transfer-learning/>`\n"
   ]
  },
  {
   "cell_type": "markdown",
   "metadata": {
    "id": "qpV-0K-3GAh5"
   },
   "source": [
    "Training\n",
    "========\n",
    "To load dataset with different size, change the batch_size on code block 3."
   ]
  },
  {
   "cell_type": "code",
   "metadata": {
    "id": "4mAnpDIKFme7"
   },
   "source": [
    "inputs, classes = next(iter(dataloaders['train']))\n",
    "tests, test_classes = next(iter(dataloaders['val']))\n",
    "\n",
    "print(lin_inputs.shape)\n",
    "print(lin_tests.shape)"
   ],
   "execution_count": null,
   "outputs": []
  },
  {
   "cell_type": "markdown",
   "metadata": {
    "id": "ve-Yuis8GR9K"
   },
   "source": [
    "SVM\n",
    "==="
   ]
  },
  {
   "cell_type": "code",
   "metadata": {
    "id": "NO90aEetGWAi"
   },
   "source": [
    "from sklearn import svm\n"
   ],
   "execution_count": null,
   "outputs": []
  },
  {
   "cell_type": "markdown",
   "metadata": {
    "id": "T8AV6pmeGWKq"
   },
   "source": [
    "K-nn\n",
    "===="
   ]
  },
  {
   "cell_type": "code",
   "metadata": {
    "id": "TkEW2pmnGaK3"
   },
   "source": [
    "from sklearn import neighbors\n"
   ],
   "execution_count": null,
   "outputs": []
  },
  {
   "cell_type": "markdown",
   "metadata": {
    "id": "E9iO0gWtGxRs"
   },
   "source": [
    "SVM with PCA\n",
    "============"
   ]
  },
  {
   "cell_type": "code",
   "metadata": {
    "id": "HKrqx1d-Gzi6"
   },
   "source": [],
   "execution_count": null,
   "outputs": []
  },
  {
   "cell_type": "markdown",
   "metadata": {
    "id": "WzZFvO1CG0HD"
   },
   "source": [
    "K-nn with PCA\n",
    "============="
   ]
  },
  {
   "cell_type": "code",
   "metadata": {
    "id": "r1Hkg4IYG126"
   },
   "source": [],
   "execution_count": null,
   "outputs": []
  },
  {
   "cell_type": "markdown",
   "metadata": {
    "id": "TGj7BEevG1eq"
   },
   "source": [
    "Load Pre-trained CNN model\n",
    "=========================="
   ]
  },
  {
   "cell_type": "code",
   "metadata": {
    "id": "W0A7kl5mG9Aa"
   },
   "source": [],
   "execution_count": null,
   "outputs": []
  },
  {
   "cell_type": "markdown",
   "metadata": {
    "id": "Lrpa4eH1G9Eq"
   },
   "source": [
    "SVM and Knn with feature extractor of pre-trained CNN\n",
    "================"
   ]
  },
  {
   "cell_type": "code",
   "metadata": {
    "id": "vPK3GHP4HB0x"
   },
   "source": [],
   "execution_count": null,
   "outputs": []
  }
 ]
}
